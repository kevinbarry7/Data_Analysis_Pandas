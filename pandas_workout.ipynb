{
 "cells": [
  {
   "cell_type": "code",
   "execution_count": 21,
   "outputs": [],
   "source": [
    "# %pylab inline\n",
    "import pandas as pd\n",
    "from pandas import Series, DataFrame\n",
    "\n",
    "import numpy as np\n",
    "import matplotlib.pyplot as plt"
   ],
   "metadata": {
    "collapsed": false,
    "pycharm": {
     "name": "#%%\n"
    }
   }
  },
  {
   "cell_type": "code",
   "execution_count": 22,
   "outputs": [
    {
     "name": "stdout",
     "output_type": "stream",
     "text": [
      "Sep    82\n",
      "Oct    85\n",
      "Nov    91\n",
      "Dec    70\n",
      "Jan    73\n",
      "Feb    97\n",
      "Mar    73\n",
      "Apr    77\n",
      "May    79\n",
      "Jun    89\n",
      "dtype: int64\n",
      "Yearly average: 81.6\n",
      "First half average: 80.2\n",
      "Second half average: 83.0\n",
      "Improvement: 2.799999999999997\n"
     ]
    }
   ],
   "source": [
    "np.random.seed(0)\n",
    "months = 'Sep Oct Nov Dec Jan Feb Mar Apr May Jun'.split()\n",
    "print(s)\n",
    "s = Series(np.random.randint(70, 100, 10), index =months)\n",
    "print(f'Yearly average: {s.mean()}')\n",
    "\n",
    "first_half_average = s['Sep': 'Jan'].mean()\n",
    "second_half_average = s['Feb':'Jun'].mean()\n",
    "\n",
    "print(f'First half average: {first_half_average}')\n",
    "print(f'Second half average: {second_half_average}')\n",
    "\n",
    "print(f'Improvement: {second_half_average - first_half_average}')\n"
   ],
   "metadata": {
    "collapsed": false,
    "pycharm": {
     "name": "#%%\n"
    }
   }
  }
 ],
 "metadata": {
  "kernelspec": {
   "display_name": "Python 3",
   "language": "python",
   "name": "python3"
  },
  "language_info": {
   "codemirror_mode": {
    "name": "ipython",
    "version": 2
   },
   "file_extension": ".py",
   "mimetype": "text/x-python",
   "name": "python",
   "nbconvert_exporter": "python",
   "pygments_lexer": "ipython2",
   "version": "2.7.6"
  }
 },
 "nbformat": 4,
 "nbformat_minor": 0
}